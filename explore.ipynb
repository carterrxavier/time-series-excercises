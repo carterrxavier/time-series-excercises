{
 "cells": [
  {
   "cell_type": "code",
   "execution_count": 1,
   "id": "084c3774-4a5f-4759-b956-f652605d37b1",
   "metadata": {},
   "outputs": [],
   "source": [
    "import pandas as pd\n",
    "import numpy as np\n",
    "import aquire"
   ]
  },
  {
   "cell_type": "code",
   "execution_count": 2,
   "id": "6ea8f92f-0a67-4b11-85f4-5dadc19e597d",
   "metadata": {},
   "outputs": [],
   "source": [
    "df = aquire.get_store_data()"
   ]
  },
  {
   "cell_type": "code",
   "execution_count": 4,
   "id": "5d0249d8-fd61-428d-bf10-aba0e9453f3c",
   "metadata": {},
   "outputs": [],
   "source": [
    "df = aquire.feature_engineering()"
   ]
  },
  {
   "cell_type": "markdown",
   "id": "4202f07e-6d42-45dd-b034-0179a809c7c3",
   "metadata": {},
   "source": [
    "## Splitting Data"
   ]
  },
  {
   "cell_type": "code",
   "execution_count": null,
   "id": "c40fc151-b18a-4762-a996-a6b9c98d8705",
   "metadata": {},
   "outputs": [],
   "source": [
    "train_size = .70\n",
    "n = df.shape[0]\n",
    "test_start_index"
   ]
  }
 ],
 "metadata": {
  "kernelspec": {
   "display_name": "Python 3",
   "language": "python",
   "name": "python3"
  },
  "language_info": {
   "codemirror_mode": {
    "name": "ipython",
    "version": 3
   },
   "file_extension": ".py",
   "mimetype": "text/x-python",
   "name": "python",
   "nbconvert_exporter": "python",
   "pygments_lexer": "ipython3",
   "version": "3.8.10"
  }
 },
 "nbformat": 4,
 "nbformat_minor": 5
}
