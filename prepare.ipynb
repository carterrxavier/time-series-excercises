{
 "cells": [
  {
   "cell_type": "code",
   "execution_count": 1,
   "id": "6d6b97b2-19a6-4826-a4e2-54ed18c03e7f",
   "metadata": {},
   "outputs": [],
   "source": [
    "import pandas as pd\n",
    "import numpy as np\n",
    "from datetime import timedelta, datetime\n",
    "import aquire\n",
    "import seaborn as sns\n",
    "import matplotlib.pyplot as plt"
   ]
  },
  {
   "cell_type": "code",
   "execution_count": 2,
   "id": "af346a12-6642-404c-b8c6-5840ccdf105b",
   "metadata": {},
   "outputs": [],
   "source": [
    "df = aquire.get_store_data()"
   ]
  },
  {
   "cell_type": "code",
   "execution_count": 3,
   "id": "a0327ea2-045d-4617-856b-f8cf13f435bd",
   "metadata": {},
   "outputs": [],
   "source": [
    "#1 convert date to datetime\n",
    "df.sale_date = pd.to_datetime(df.sale_date)\n"
   ]
  },
  {
   "cell_type": "code",
   "execution_count": 4,
   "id": "4e429b66-a798-4a63-8973-b35c89f0b5ae",
   "metadata": {},
   "outputs": [
    {
     "data": {
      "text/plain": [
       "<AxesSubplot:>"
      ]
     },
     "execution_count": 4,
     "metadata": {},
     "output_type": "execute_result"
    },
    {
     "data": {
      "image/png": "[encoded data removed]",
      "text/plain": [
       "<Figure size 432x288 with 1 Axes>"
      ]
     },
     "metadata": {
      "needs_background": "light"
     },
     "output_type": "display_data"
    }
   ],
   "source": [
    "#2 plot distribution of sale_amount and item_price\n",
    "df.sale_amount.hist(bins=25)"
   ]
  },
  {
   "cell_type": "code",
   "execution_count": 5,
   "id": "cd45242d-3bff-4dbb-ba8c-9b267319be76",
   "metadata": {},
   "outputs": [
    {
     "data": {
      "text/plain": [
       "<AxesSubplot:>"
      ]
     },
     "execution_count": 5,
     "metadata": {},
     "output_type": "execute_result"
    },
    {
     "data": {
      "image/png": "[encoded data removed]",
      "text/plain": [
       "<Figure size 432x288 with 1 Axes>"
      ]
     },
     "metadata": {
      "needs_background": "light"
     },
     "output_type": "display_data"
    }
   ],
   "source": [
    "df.item_price.hist()"
   ]
  },
  {
   "cell_type": "code",
   "execution_count": 6,
   "id": "b81901d1-f918-4e94-8d88-d50cea774d84",
   "metadata": {},
   "outputs": [],
   "source": [
    "#3 Set index to datetime variable\n",
    "df = df.set_index('sale_date')"
   ]
  },
  {
   "cell_type": "code",
   "execution_count": 7,
   "id": "302b618d-5172-4e4d-b8fc-881043951f04",
   "metadata": {},
   "outputs": [],
   "source": [
    "#4 add month and week to dataframe\n",
    "df['month'] = df.index.month\n",
    "df['week']  = df.index.isocalendar().week"
   ]
  },
  {
   "cell_type": "code",
   "execution_count": 8,
   "id": "711dd5a4-94a1-4058-bf4f-1016748a9eda",
   "metadata": {},
   "outputs": [],
   "source": [
    "#5 sales total\n",
    "df['sale_total'] = df.sale_amount * df.item_price"
   ]
  },
  {
   "cell_type": "code",
   "execution_count": 9,
   "id": "17ec21b4-58a0-44fe-8917-72f85ef056b6",
   "metadata": {},
   "outputs": [],
   "source": [
    "#6 make it reproducible\n",
    "example = aquire.get_store_data()"
   ]
  },
  {
   "cell_type": "code",
   "execution_count": 10,
   "id": "19436c88-1cda-4b0f-8b48-d69e9467743c",
   "metadata": {},
   "outputs": [],
   "source": [
    "example = aquire.feature_engineering()"
   ]
  },
  {
   "cell_type": "code",
   "execution_count": 11,
   "id": "6c87103e-e99a-4d42-82c6-04a22083c405",
   "metadata": {},
   "outputs": [],
   "source": [
    "#germany data \n",
    "df = aquire.get_germany()"
   ]
  },
  {
   "cell_type": "code",
   "execution_count": 12,
   "id": "2a420a0c-5e40-453c-a703-cb578dca1b4a",
   "metadata": {},
   "outputs": [],
   "source": [
    "#1 convert date  to datetime"
   ]
  },
  {
   "cell_type": "code",
   "execution_count": 13,
   "id": "47754a4f-0b3b-441a-8f82-5331c95d46d9",
   "metadata": {},
   "outputs": [],
   "source": [
    "df.Date = pd.to_datetime(df.Date)"
   ]
  },
  {
   "cell_type": "code",
   "execution_count": 14,
   "id": "78a06c1d-7820-4875-9ed8-49d3edf9313c",
   "metadata": {},
   "outputs": [
    {
     "data": {
      "image/png": "[encoded data removed]",
      "text/plain": [
       "<Figure size 432x288 with 6 Axes>"
      ]
     },
     "metadata": {
      "needs_background": "light"
     },
     "output_type": "display_data"
    }
   ],
   "source": [
    "#2 plot distribution of each variable\n",
    "df.hist()\n",
    "plt.show()"
   ]
  },
  {
   "cell_type": "code",
   "execution_count": 15,
   "id": "8f9c5cbb-5a51-4099-8f29-4c7a7b53cfff",
   "metadata": {},
   "outputs": [],
   "source": [
    "#3 index to datetime\n",
    "df = df.set_index('Date')"
   ]
  },
  {
   "cell_type": "code",
   "execution_count": 16,
   "id": "2cae87a7-bf4e-4f68-87a8-0aec693f86f8",
   "metadata": {},
   "outputs": [],
   "source": [
    "#4 add a month and year to your dataframe\n",
    "df['month'] = df.index.month"
   ]
  },
  {
   "cell_type": "code",
   "execution_count": 17,
   "id": "3c7ad987-063d-4faf-98e3-122fe1660f05",
   "metadata": {},
   "outputs": [],
   "source": [
    "df['year'] = df.index.year"
   ]
  },
  {
   "cell_type": "code",
   "execution_count": 21,
   "id": "adb91600-12d8-4c8f-bc01-b855dfad37fb",
   "metadata": {},
   "outputs": [],
   "source": [
    "#fill missing values\n",
    "#lets see if any simple math can fill values\n",
    "#are there an wind+solar rows empty that have values for wind and solar\n",
    "df.loc[(df['Wind+Solar'].isna()) & ((df['Wind'] > 0) & (df['Solar'] >0))]\n",
    "\n",
    "df.loc[(df['Wind+Solar'] != (df['Wind'] + df['Solar'])), 'Wind+Solar'] = (df['Wind'] + df['Solar'])"
   ]
  },
  {
   "cell_type": "code",
   "execution_count": null,
   "id": "4cf87df5-9231-4624-b3e1-0c870ece12f5",
   "metadata": {},
   "outputs": [],
   "source": [
    "#No, so we will fill with 0\n",
    "df.Wind  = df.Wind.fillna(0)\n",
    "df.Solar = df.Solar.fillna(0)\n",
    "df['Wind+Solar'] = df['Wind+Solar'].fillna(0)"
   ]
  },
  {
   "cell_type": "code",
   "execution_count": null,
   "id": "73754224-7bbe-44b4-a92a-d7326f09573e",
   "metadata": {},
   "outputs": [],
   "source": [
    "#6 make it repoducealble \n",
    "new = aquire.get_germany()\n",
    "new = aquire.prep_germany(new)"
   ]
  }
 ],
 "metadata": {
  "kernelspec": {
   "display_name": "Python 3",
   "language": "python",
   "name": "python3"
  },
  "language_info": {
   "codemirror_mode": {
    "name": "ipython",
    "version": 3
   },
   "file_extension": ".py",
   "mimetype": "text/x-python",
   "name": "python",
   "nbconvert_exporter": "python",
   "pygments_lexer": "ipython3",
   "version": "3.8.10"
  }
 },
 "nbformat": 4,
 "nbformat_minor": 5
}
